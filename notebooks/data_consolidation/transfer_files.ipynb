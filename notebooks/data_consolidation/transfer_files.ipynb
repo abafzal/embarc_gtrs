{
 "cells": [
  {
   "cell_type": "code",
   "execution_count": 188,
   "metadata": {
    "collapsed": false
   },
   "outputs": [
    {
     "name": "stdout",
     "output_type": "stream",
     "text": [
      "Done.\n"
     ]
    }
   ],
   "source": [
    "import os\n",
    "import subprocess\n",
    "import numpy as np\n",
    "from pandas import read_csv\n",
    "from shutil import copyfile \n",
    "\n",
    "data_dirs = ['/autofs/space/clara_001/users/EMBARC/DATA', \n",
    "             '/autofs/space/lilli_004/users/EMBARC/DATA', \n",
    "             '/autofs/cluster/nexus/15/users/gcoombs/EMBARC/DATA']\n",
    "\n",
    "fast_dir = '/autofs/space/will_003/users/EMBARC/EMBARC-FAST'\n",
    "recon_dir = '/autofs/space/will_003/users/EMBARC/Recons'\n",
    "\n",
    "subjects = os.listdir(recon_dir)\n",
    "names = ['fcmrirun1SENSE', 'RESTSTATE1fMRI', 'RESTING1805DUM39sl', 'embarcresting1', \n",
    "         'FUNCEPIRestV180S39ASSET2', 'embarc_resting_1']\n",
    "\n",
    "for data_dir in data_dirs:\n",
    "    for subject in subjects: \n",
    "    \n",
    "        subj_dir = os.path.join(data_dir, subject)\n",
    "        try:\n",
    "            run_dirs = [d for d in os.listdir(os.path.join(subj_dir, 'bold')) if os.path.isdir(os.path.join(subj_dir, d))]\n",
    "        except OSError:\n",
    "#             print 'Cannot find %s in %s' %(subject, data_dir)\n",
    "            continue\n",
    "\n",
    "        ## Load dat file.\n",
    "        dat = read_csv(os.path.join(subj_dir, 'series-info.dat'), sep =' *', index_col = False, header=None, \n",
    "                   names=['Run', 'Series', 'TE', 'TR', 'Flip', 'Vox. Res', 'Unknown', 'Frames', 'Path'])\n",
    "\n",
    "        resting = dat[dat['Series'].isin(names)].reset_index()[:1]\n",
    "        run = resting.Run\n",
    "\n",
    "        ## Set source and target directories.\n",
    "        src_dir = os.path.join(subj_dir, 'bold', '%03d' %run)\n",
    "        src = os.path.join(src_dir, '%s_bld%03d_rest_reorient.nii.gz' %(subject, run))\n",
    "        targ_dir = os.path.join(fast_dir, subject, 'rest', '001')\n",
    "        targ = os.path.join(targ_dir, '%s_rest_reorient.nii.gz' %subject)\n",
    "\n",
    "        ## Write subjectname file.\n",
    "        if not os.path.isfile(os.path.join(fast_dir, subject, 'subjectname')):\n",
    "            with open(os.path.join(fast_dir, subject, 'subjectname'), 'w') as f:\n",
    "                f.write(subject)\n",
    "        \n",
    "        ## Copy file.\n",
    "        if os.path.isfile(src):\n",
    "\n",
    "            if not os.path.isdir(targ_dir): \n",
    "                os.makedirs(targ_dir)\n",
    "\n",
    "            if not os.path.isfile(targ):\n",
    "    #             print 'Copying file: %s' %os.path.basename(targ)\n",
    "                copyfile(src, targ)\n",
    "    #         else:\n",
    "    #             print 'Target exists.'\n",
    "        else:\n",
    "            print \"Cannot find source file: %s\" %src\n",
    "\n",
    "print 'Done.'"
   ]
  }
 ],
 "metadata": {
  "hide_input": false,
  "kernelspec": {
   "display_name": "Python 2",
   "language": "python",
   "name": "python2"
  },
  "language_info": {
   "codemirror_mode": {
    "name": "ipython",
    "version": 2
   },
   "file_extension": ".py",
   "mimetype": "text/x-python",
   "name": "python",
   "nbconvert_exporter": "python",
   "pygments_lexer": "ipython2",
   "version": "2.7.12"
  },
  "nav_menu": {},
  "toc": {
   "navigate_menu": true,
   "number_sections": true,
   "sideBar": true,
   "threshold": 6,
   "toc_cell": false,
   "toc_section_display": "block",
   "toc_window_display": false
  }
 },
 "nbformat": 4,
 "nbformat_minor": 0
}
