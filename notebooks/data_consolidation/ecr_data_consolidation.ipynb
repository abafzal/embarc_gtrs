{
 "cells": [
  {
   "cell_type": "markdown",
   "metadata": {},
   "source": [
    "## Get list of subjects."
   ]
  },
  {
   "cell_type": "code",
   "execution_count": null,
   "metadata": {
    "ExecuteTime": {
     "end_time": "2016-10-11T13:06:51.686027",
     "start_time": "2016-10-11T13:06:51.612882"
    },
    "collapsed": false
   },
   "outputs": [],
   "source": [
    "import os, sys, shutil\n",
    "import numpy as np\n",
    "import pandas as pd\n",
    "import subprocess, re\n",
    "from pandas import read_csv\n",
    "\n",
    "## Specify directories. \n",
    "\n",
    "data_dir = '/space/will/4/users/EMBARC/DATA'\n",
    "dicom_dir = '/space/will/3/users/EMBARC/DICOMs'\n",
    "recon_dir = '/space/will/3/users/EMBARC/Recons'\n",
    "behav_dir = '/space/will/3/users/EMBARC/behavior'\n",
    "fast_dir = '/space/will/3/users/EMBARC/EMBARC-FAST'\n",
    "\n",
    "## Read in baseline csv. \n",
    "baseline = read_csv(os.path.join(behav_dir, 'embarc_baseline_totals.csv'))\n",
    "baseline = baseline.set_index('ProjectSpecificID', drop=True)\n",
    "\n",
    "## Read in QC csv. \n",
    "qc = read_csv('/space/will/4/users/EMBARC/QC/aafzal_9_7_2016_11_37_59_MASTER.csv')\n",
    "\n",
    "columns = ['Session','ANAT','ANAT_QC','EMO','EMO_QC']\n",
    "qc = qc[columns]\n",
    "qc.columns = ['Session','ANAT','ANAT_QC','EMO','EMO_QC',]\n",
    "\n",
    "## Restrict to subjects in baseline_totals csv.\n",
    "qc = qc[(qc.Session).isin([s for s in qc.Session if s[:6] in baseline.index])]\n",
    "qc = qc.set_index('Session', drop=True)\n",
    "qc = qc[qc.notnull()]\n",
    "\n",
    "## Restrict QC csv to valid baseline subjects. \n",
    "qc = qc[(qc.index).isin([(s.replace('+AF8-','')).upper() for s in qc.index if (s.startswith('CU') | s.startswith('MG') \n",
    "    | s.startswith('TX')| s.startswith('UM')) and (not 'PH' in s) and (not 'TM' in s) and ('MR1' in s)])]\n",
    "\n",
    "## Manually identify Failed EMO scans.\n",
    "# bad_eor1 = ['CU0001CUMR1R1','MG0202MGMR1R1','MG0248MGMR1R1','TX0045TXMR1R1','TX0065TXMR1R1','UM0024UMMR1R1','UM0094UMMR1R1']\n",
    "\n",
    "# qc = qc[(qc.ANAT_QC != 'FAIL') & (qc.EMO_QC != 'FAIL')]     ## Remove FAIL scans.\n",
    "# qc = qc[~(qc.index).isin(bad_eor1)]                          ## Remove bad EOR1 scans (manual inspection)\n",
    "\n",
    "## Check against existing DICOMs.\n",
    "dicoms = os.listdir(dicom_dir)\n",
    "data = os.listdir(data_dir)\n",
    "\n",
    "subjects = [s for s in qc.index]\n",
    "## Remove MG0006MGMR1R1. No ANAT.\n",
    "subjects.remove('MG0006MGMR1R1')\n",
    "## Remove CU0089CUMR1R1. No EMO. \n",
    "subjects.remove('CU0089CUMR1R1')\n",
    "# print 'Subjects remaning after QC: %d' %(len(subjects))\n",
    "print 'Subjects: %d' %len(subjects)\n",
    "\n",
    "print 'Missing DICOMs: %s' %(len(subjects)-len([s for s in subjects if s in dicoms]))\n",
    "print 'Missing DATA: %s' %(len(subjects)-len([s for s in subjects if s in data]))"
   ]
  },
  {
   "cell_type": "markdown",
   "metadata": {},
   "source": [
    "## Load EMO run numbers from QC csv."
   ]
  },
  {
   "cell_type": "code",
   "execution_count": null,
   "metadata": {
    "ExecuteTime": {
     "end_time": "2016-10-11T13:06:53.745651",
     "start_time": "2016-10-11T13:06:53.643252"
    },
    "collapsed": false
   },
   "outputs": [],
   "source": [
    "missing_subs = list(read_csv('/space/will/3/users/EMBARC/Etkin/EMBARC_missing_subjects.csv')['Subject name'])\n",
    "n_missing = len(missing_subs)\n",
    "print 'Missing: %d' %n_missing\n",
    "found = [d for d in subjects if d[:6] in missing_subs]\n",
    "\n",
    "## Create DataFrame to store run numbers. \n",
    "rundf = pd.DataFrame(columns=['Subject_ID','anat','emo'])\n",
    "rundf['Subject_ID'] = found\n",
    "rundf = rundf.set_index('Subject_ID', drop=True)\n",
    "\n",
    "for subject in found:\n",
    "    rundf.loc[subject,'anat'] = qc.loc[subject,'ANAT']\n",
    "    rundf.loc[subject,'emo'] = qc.loc[subject,'EMO']\n",
    "    \n",
    "rundf = rundf.dropna()\n",
    "print 'Found EMO runs for %s subjects.' %len(rundf)"
   ]
  },
  {
   "cell_type": "markdown",
   "metadata": {
    "ExecuteTime": {
     "end_time": "2016-10-11T12:05:25.940134",
     "start_time": "2016-10-11T12:05:25.911074"
    }
   },
   "source": [
    "## Copy functional files to Etkin Dir."
   ]
  },
  {
   "cell_type": "code",
   "execution_count": null,
   "metadata": {
    "ExecuteTime": {
     "end_time": "2016-10-11T13:15:18.668519",
     "start_time": "2016-10-11T13:15:18.485580"
    },
    "collapsed": false
   },
   "outputs": [],
   "source": [
    "dest_dir = '/space/will/3/users/EMBARC/Etkin/emo_raw'\n",
    "\n",
    "for subject in rundf.index:\n",
    "    if os.path.isdir(os.path.join(data_dir, subject, 'bold', '%03d' %rundf.loc[subject,'emo'])):\n",
    "        run_dir = os.path.join(data_dir, subject, 'bold', '%03d' %rundf.loc[subject,'emo'])\n",
    "        src = os.path.join(run_dir,'%s_bld%03d_rest.nii' %(subject,rundf.loc[subject,'emo']))\n",
    "        dst = os.path.join(dest_dir,'%s_emo_raw.nii' %subject)\n",
    "        print subject, rundf.loc[subject,'emo']\n",
    "#         shutil.copy(src,dst)"
   ]
  },
  {
   "cell_type": "markdown",
   "metadata": {},
   "source": [
    "## Copy anatomical files to Etkin Dir."
   ]
  },
  {
   "cell_type": "code",
   "execution_count": 66,
   "metadata": {
    "ExecuteTime": {
     "end_time": "2016-10-11T13:26:43.569662",
     "start_time": "2016-10-11T13:19:08.599390"
    },
    "collapsed": false
   },
   "outputs": [
    {
     "name": "stdout",
     "output_type": "stream",
     "text": [
      "CU0001CUMR1R1 3.0\n",
      "CU0002CUMR1R1 3.0\n",
      "CU0004CUMR1R1 3.0\n",
      "CU0007CUMR1R1 3.0\n",
      "CU0066CUMR1R1 4.0\n",
      "CU0070CUMR1R1 3.0\n",
      "CU0090CUMR1R1 3.0\n",
      "CU0092CUMR1R1 4.0\n",
      "CU0093CUMR1R1 4.0\n",
      "CU0094CUMR1R1 4.0\n",
      "CU0095CUMR1R1 4.0\n",
      "CU0097CUMR1R1 4.0\n",
      "CU0100CUMR1R1 4.0\n",
      "CU0102CUMR1R1 4.0\n",
      "CU0103CUMR1R1 4.0\n",
      "CU0104CUMR1R1 4.0\n",
      "CU0105CUMR1R1 4.0\n",
      "CU0106CUMR1R1 22.0\n",
      "CU0108CUMR1R1 4.0\n",
      "CU0110CUMR1R1 4.0\n",
      "CU0111CUMR1R1 4.0\n",
      "CU0113CUMR1R1 4.0\n",
      "CU0116CUMR1R1 4.0\n",
      "CU0117CUMR1R1 4.0\n",
      "CU0119CUMR1R1 4.0\n",
      "CU0120CUMR1R1 5.0\n",
      "CU0121CUMR1R1 4.0\n",
      "CU0125CUMR1R1 4.0\n",
      "CU0126CUMR1R1 3.0\n",
      "CU0127CUMR1R1 4.0\n",
      "CU0128CUMR1R1 4.0\n",
      "CU0129CUMR1R1 4.0\n",
      "CU0130CUMR1R1 4.0\n",
      "CU0131CUMR1R1 4.0\n",
      "CU0132CUMR1R1 4.0\n",
      "CU0133CUMR1R1 4.0\n",
      "CU0134CUMR1R1 4.0\n",
      "CU0135CUMR1R1 4.0\n",
      "MG0001MGMR1R1 4.0\n",
      "MG0002MGMR1R1 4.0\n",
      "MG0003MGMR1R1 4.0\n",
      "MG0004MGMR1R1 4.0\n",
      "MG0005MGMR1R1 4.0\n",
      "MG0006MGMR1R2 4.0\n",
      "MG0018MGMR1R1 7.0\n",
      "MG0172MGMR1R1 4.0\n",
      "MG0206MGMR1R1 4.0\n",
      "MG0213MGMR1R1 4.0\n",
      "MG0218MGMR1R1 4.0\n",
      "MG0220MGMR1R1 4.0\n",
      "MG0222MGMR1R1 4.0\n",
      "MG0228MGMR1R1 4.0\n",
      "MG0231MGMR1R1 4.0\n",
      "MG0238MGMR1R1 4.0\n",
      "MG0239MGMR1R1 4.0\n",
      "MG0242MGMR1R1 4.0\n",
      "MG0243MGMR1R1 4.0\n",
      "MG0246MGMR1R1 7.0\n",
      "MG0251MGMR1R1 4.0\n",
      "MG0253MGMR1R1 4.0\n",
      "MG0256MGMR1R1 4.0\n",
      "MG0257MGMR1R1 4.0\n",
      "MG0259MGMR1R1 4.0\n",
      "MG0261MGMR1R1 4.0\n",
      "MG0269MGMR1R1 4.0\n",
      "MG0270MGMR1R1 4.0\n",
      "TX0001TXMR1R1 401.0\n",
      "TX0005TXMR1R1 301.0\n",
      "TX0006TXMR1R1 301.0\n",
      "TX0007TXMR1R1 301.0\n",
      "TX0008TXMR1R1 301.0\n",
      "TX0009TXMR1R1 301.0\n",
      "TX0090TXMR1R1 301.0\n",
      "TX0162TXMR1R1 301.0\n",
      "TX0165TXMR1R1 301.0\n",
      "TX0169TXMR1R1 301.0\n",
      "TX0172TXMR1R1 301.0\n",
      "TX0173TXMR1R1 301.0\n",
      "TX0174TXMR1R1 301.0\n",
      "TX0175TXMR1R1 301.0\n",
      "TX0178TXMR1R1 301.0\n",
      "TX0179TXMR1R1 301.0\n",
      "TX0182TXMR1R1 301.0\n",
      "TX0187TXMR1R1 301.0\n",
      "TX0188TXMR1R1 301.0\n",
      "TX0189TXMR1R1 301.0\n",
      "TX0193TXMR1R1 301.0\n",
      "TX0194TXMR1R1 301.0\n",
      "TX0195TXMR1R1 301.0\n",
      "TX0198TXMR1R1 201.0\n",
      "TX0204TXMR1R1 201.0\n",
      "UM0002UMMR1R1 301.0\n",
      "UM0003UMMR1R1 301.0\n",
      "UM0004UMMR1R1 501.0\n",
      "UM0005UMMR1R1 301.0\n",
      "UM0006UMMR1R1 301.0\n",
      "UM0029UMMR1R1 301.0\n",
      "UM0040UMMR1R1 301.0\n",
      "UM0056UMMR1R1 301.0\n",
      "UM0101UMMR1R1 301.0\n",
      "UM0102UMMR1R1 301.0\n",
      "UM0103UMMR1R1 301.0\n",
      "UM0107UMMR1R1 301.0\n",
      "UM0110UMMR1R1 301.0\n",
      "UM0111UMMR1R1 301.0\n",
      "UM0113UMMR1R1 301.0\n",
      "UM0114UMMR1R1 301.0\n",
      "UM0115UMMR1R1 301.0\n",
      "UM0116UMMR1R1 301.0\n",
      "UM0117UMMR1R1 501.0\n",
      "UM0118UMMR1R1 501.0\n",
      "UM0119UMMR1R1 301.0\n",
      "UM0120UMMR1R1 301.0\n",
      "UM0121UMMR1R1 301.0\n"
     ]
    }
   ],
   "source": [
    "dest_dir = '/space/will/3/users/EMBARC/Etkin/anat_raw'\n",
    "\n",
    "for subject in rundf.index:\n",
    "    if os.path.isdir(os.path.join(data_dir, subject, 'anat', '%03d' %rundf.loc[subject,'anat'])):\n",
    "        run_dir = os.path.join(data_dir, subject, 'anat', '%03d' %rundf.loc[subject,'anat'])\n",
    "        src = os.path.join(run_dir,'%s_mpr%03d.nii' %(subject,rundf.loc[subject,'anat']))\n",
    "        dst = os.path.join(dest_dir,'%s_anat_raw.nii' %subject)\n",
    "        print subject, rundf.loc[subject,'anat']\n",
    "#         shutil.copy(src,dst)"
   ]
  },
  {
   "cell_type": "markdown",
   "metadata": {
    "ExecuteTime": {
     "end_time": "2016-08-05T15:06:37.414006",
     "start_time": "2016-08-05T15:06:36.973735"
    }
   },
   "source": [
    "## Compile run numbers. Unpack DICOMs."
   ]
  },
  {
   "cell_type": "code",
   "execution_count": null,
   "metadata": {
    "ExecuteTime": {
     "end_time": "2016-10-11T12:00:38.228262",
     "start_time": "2016-10-11T12:00:37.665557"
    },
    "collapsed": false
   },
   "outputs": [],
   "source": [
    "## Create DataFrame to store run numbers. \n",
    "rundf = pd.DataFrame(columns=['Subject_ID','anat','emo'])\n",
    "rundf['Subject_ID'] = found\n",
    "rundf = rundf.set_index('Subject_ID', drop=True)\n",
    "\n",
    "## Specify scan names to query by. \n",
    "anats = ['SAG3DFSPGR11Flip1NEX', 'embarc_struc', 'STRUCFSPGRSAG3DASSET2', \n",
    "         'embarcstruc', 'MPRAGE2150SENSE', 'T1W_3D_TFESENSE','STRUCFSPGRSAG3DARC','WIPMPRAGE2150SENSE']\n",
    "bolds = ['ESTROOP3975dummy39sl','FUNCEPIESTROOPV397S39ASSET2','embarcestroop', 'fmri_emotion',\n",
    "        'WIPfmri_emotionSENSE','ESTROOPfMRI','fmri_emotionSENSE','ESTROOPfMRISENSE'] \n",
    "\n",
    "## Parse run numbers from unpacklog in dicom_dir. \n",
    "for subject in found: \n",
    "\n",
    "    try:\n",
    "        ## Read in subject's dcmunpack unpacklog. \n",
    "        unpacklog = read_csv(os.path.join(dicom_dir, subject, '%s.unpacklog' %subject), sep=' *', skiprows=20,\n",
    "                             names=['Run','TE','TR','Flip Angle','Unknown1','Unknown2','Length','Filepath'], engine='python')\n",
    "\n",
    "    except (IOError, StopIteration): \n",
    "\n",
    "        try:\n",
    "            ## Read in subject's unpacksdcmdir unpacklog.\n",
    "            unpacklog = read_csv(os.path.join(dicom_dir, subject, '%s.unpacklog' %subject), sep=' *', skiprows=0,\n",
    "                                names=['Run','Status','X','Y','Z','Unknown1','Unknown2'], engine='python')\n",
    "\n",
    "        except (IOError, StopIteration): \n",
    "            continue\n",
    "\n",
    "        ## Store anat run. \n",
    "        anat = unpacklog.Run[np.in1d(unpacklog['Run'], anats)].index[0]\n",
    "        if not np.isnan(int(anat)):\n",
    "            rundf.loc[subject,'anat'] = anat\n",
    "        else:\n",
    "            print 'Cannot find anat run # for %s' %subject\n",
    "\n",
    "        ## Store EOR runs. \n",
    "        bold = unpacklog.Run[np.in1d(unpacklog['Run'], bolds)].index\n",
    "\n",
    "        ## If both runs of EOR exist, store both.\n",
    "        if len(bold)>0:\n",
    "            rundf.loc[subject,'emo'] = bold[0]\n",
    "        else:\n",
    "            print 'Cannot find BOLD run # for %s' %subject\n",
    "\n",
    "## Parse unpacked data. \n",
    "for subject in found: \n",
    "\n",
    "    try:\n",
    "        ## Read in subject's dcmunpack unpacklog. \n",
    "        unpacklog = read_csv(os.path.join(data_dir, subject, 'series-info.dat'), sep=' *',\n",
    "                             names=['Run','TE','TR','Flip Angle','Unknown1','Unknown2','Length','Filepath'], engine='python')\n",
    "\n",
    "    except (IOError, StopIteration): \n",
    "        continue\n",
    "\n",
    "    ## Store anat run. \n",
    "    anat = unpacklog.Run[np.in1d(unpacklog['Run'], anats)].index[0]\n",
    "    if not np.isnan(int(anat)):\n",
    "        rundf.loc[subject,'anat'] = anat\n",
    "    else:\n",
    "        print 'Cannot find anat run # for %s' %subject\n",
    "\n",
    "    ## Store EOR runs. \n",
    "    bold = unpacklog.Run[np.in1d(unpacklog['Run'], bolds)].index\n",
    "\n",
    "    ## If both runs of EOR exist, store both.\n",
    "    if len(bold)>0:\n",
    "        rundf.loc[subject,'emo'] = bold[0]\n",
    "    else:\n",
    "        print 'Cannot find BOLD run # for %s' %subject\n",
    "        \n",
    "        \n",
    "rundf = rundf.dropna()\n",
    "print len(rundf)"
   ]
  }
 ],
 "metadata": {
  "hide_input": false,
  "kernelspec": {
   "display_name": "Python 2",
   "language": "python",
   "name": "python2"
  },
  "language_info": {
   "codemirror_mode": {
    "name": "ipython",
    "version": 2
   },
   "file_extension": ".py",
   "mimetype": "text/x-python",
   "name": "python",
   "nbconvert_exporter": "python",
   "pygments_lexer": "ipython2",
   "version": "2.7.12"
  },
  "nav_menu": {},
  "toc": {
   "navigate_menu": true,
   "number_sections": true,
   "sideBar": true,
   "threshold": 6,
   "toc_cell": false,
   "toc_section_display": "block",
   "toc_window_display": false
  }
 },
 "nbformat": 4,
 "nbformat_minor": 0
}
