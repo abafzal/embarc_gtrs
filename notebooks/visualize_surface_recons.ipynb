{
 "cells": [
  {
   "cell_type": "code",
   "execution_count": 4,
   "metadata": {
    "ExecuteTime": {
     "end_time": "2017-02-02T09:49:48.375172",
     "start_time": "2017-02-02T09:49:48.367503"
    },
    "collapsed": true
   },
   "outputs": [],
   "source": [
    "import os\n",
    "from surfer import Brain\n",
    "%matplotlib qt4\n",
    "\n",
    "## Specify directories.\n",
    "recon_dir = '/autofs/space/will_003/users/EMBARC/Recons'\n",
    "save_dir = '/autofs/space/will_003/users/EMBARC/EMBARC-FAST/scripts/subtypes_gt/recons'\n",
    "\n",
    "## Specify subjects.\n",
    "subjects = [line.strip() for line in open(\"/space/will/3/users/EMBARC/EMBARC-FAST/scripts/subtypes_gt/gt_subjects\", 'r')]"
   ]
  },
  {
   "cell_type": "code",
   "execution_count": 5,
   "metadata": {
    "ExecuteTime": {
     "end_time": "2017-02-02T09:49:56.562167",
     "start_time": "2017-02-02T09:49:50.335965"
    },
    "collapsed": false
   },
   "outputs": [
    {
     "name": "stdout",
     "output_type": "stream",
     "text": [
      "Done.\n"
     ]
    }
   ],
   "source": [
    "## Specify parameters. \n",
    "surface = 'inflated'\n",
    "hemis = ['lh','rh']\n",
    "views = ['lateral', 'medial']\n",
    "\n",
    "for subject in subjects:\n",
    "    for hemi in hemis: \n",
    "        for view in views: \n",
    "            brain = Brain(subject, hemi=hemi, surf=surface, views=view, cortex='grey', subjects_dir='/autofs/space/will_003/users/EMBARC/Recons', offset=True, offscreen=True)\n",
    "            brain.save_image(os.path.join(save_dir, '%s_%s_%s.png' %(subject,hemi,view)))\n",
    "print 'Done.'"
   ]
  }
 ],
 "metadata": {
  "anaconda-cloud": {},
  "hide_input": false,
  "kernelspec": {
   "display_name": "Python [default]",
   "language": "python",
   "name": "python2"
  },
  "language_info": {
   "codemirror_mode": {
    "name": "ipython",
    "version": 2
   },
   "file_extension": ".py",
   "mimetype": "text/x-python",
   "name": "python",
   "nbconvert_exporter": "python",
   "pygments_lexer": "ipython2",
   "version": "2.7.12"
  },
  "nav_menu": {},
  "toc": {
   "navigate_menu": true,
   "number_sections": true,
   "sideBar": true,
   "threshold": 6,
   "toc_cell": false,
   "toc_section_display": "block",
   "toc_window_display": false
  }
 },
 "nbformat": 4,
 "nbformat_minor": 1
}
