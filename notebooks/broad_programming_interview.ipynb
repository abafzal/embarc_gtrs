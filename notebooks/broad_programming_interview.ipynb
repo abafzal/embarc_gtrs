{
 "cells": [
  {
   "cell_type": "code",
   "execution_count": null,
   "metadata": {
    "ExecuteTime": {
     "end_time": "2017-02-17T10:54:28.035197",
     "start_time": "2017-02-17T10:54:27.926247"
    },
    "collapsed": false
   },
   "outputs": [],
   "source": [
    "np.random.seed(4)\n",
    "\n",
    "M = 10000\n",
    "A = np.random.randint(0,M,200000)\n",
    "\n",
    "N = len(A)\n",
    "count = [0] * (M + 1)\n",
    "maxOccurence = 1\n",
    "index = -1\n",
    "for i in xrange(N):\n",
    "    if count[A[i]] > 0:\n",
    "        tmp = count[A[i]]\n",
    "        if tmp > maxOccurence:\n",
    "            maxOccurence = tmp\n",
    "            index = i\n",
    "        count[A[i]] = tmp + 1\n",
    "    else:\n",
    "        count[A[i]] = 1\n",
    "print A[index]"
   ]
  },
  {
   "cell_type": "code",
   "execution_count": null,
   "metadata": {
    "ExecuteTime": {
     "end_time": "2017-02-17T11:16:52.278371",
     "start_time": "2017-02-17T11:16:52.267368"
    },
    "collapsed": false
   },
   "outputs": [],
   "source": [
    "np.random.seed(90009)\n",
    "\n",
    "M = 20000\n",
    "A = np.random.randint(0,M,100)\n",
    "# A = np.random.choice(range(20), 10, replace=False)\n",
    "# A = (np.zeros((100),dtype=int))\n",
    "\n",
    "N = len(A)\n",
    "count = [0] * (M + 1)\n",
    "maxOccurence = 1\n",
    "index = 0\n",
    "for i in xrange(N):\n",
    "    if count[A[i]] > 0:\n",
    "        tmp = count[A[i]] + 1\n",
    "        if tmp > maxOccurence:\n",
    "            maxOccurence = tmp\n",
    "            index = i\n",
    "        count[A[i]] = tmp\n",
    "    else:\n",
    "        count[A[i]] = 1\n",
    "print A[index]"
   ]
  },
  {
   "cell_type": "code",
   "execution_count": null,
   "metadata": {
    "ExecuteTime": {
     "end_time": "2017-02-17T11:57:42.328069",
     "start_time": "2017-02-17T11:57:42.325697"
    },
    "collapsed": false
   },
   "outputs": [],
   "source": [
    "T = (8, (2, (8, None, None), (7, None, None)), (6, None, None))"
   ]
  },
  {
   "cell_type": "code",
   "execution_count": null,
   "metadata": {
    "ExecuteTime": {
     "end_time": "2017-02-17T11:57:44.104521",
     "start_time": "2017-02-17T11:57:44.101564"
    },
    "collapsed": false
   },
   "outputs": [],
   "source": [
    "for i in np.arange(len(T)):\n",
    "    print T[i]"
   ]
  },
  {
   "cell_type": "code",
   "execution_count": null,
   "metadata": {
    "ExecuteTime": {
     "end_time": "2017-02-17T11:58:45.092244",
     "start_time": "2017-02-17T11:58:45.086085"
    },
    "collapsed": false
   },
   "outputs": [],
   "source": [
    "def helper(num_visible, max_val, T[0]):\n",
    "    if T == None: \n",
    "        return num_visible, max_val\n",
    "    else:\n",
    "        x = T[0]\n",
    "        if x >= max_val: \n",
    "            max_val = x\n",
    "            num_visible += 1\n",
    "                \n",
    "def solution(T): \n",
    "    if T == None: \n",
    "        return 0\n",
    "    else:\n",
    "        \n",
    "        x = T[0]\n",
    "        L = T[1]\n",
    "        R = T[2]\n",
    "        \n",
    "        num_visible = 1\n",
    "        \n",
    "        left_val, left_max = helper(max_val, L, num_visible)\n",
    "        right_val, right_max = helper(max_val, R, num_visible)\n",
    "        \n",
    "        if (left_max > x) or (right_max > x): \n",
    "            num_visible = num_visible - 1\n",
    "        else:\n",
    "            \n",
    "            \n",
    "        "
   ]
  },
  {
   "cell_type": "code",
   "execution_count": null,
   "metadata": {
    "collapsed": true
   },
   "outputs": [],
   "source": [
    "def helper(max_val,T,num_visible):\n",
    "    if T == None:\n",
    "        return False\n",
    "    else: \n",
    "        x = T[0]\n",
    "        l = T[1]\n",
    "        r = T[2]\n",
    "        \n",
    "        if x >= max_val: \n",
    "            num_visible += 1\n",
    "            \n",
    "        max_val = x\n",
    "        return max_val, num_visible"
   ]
  },
  {
   "cell_type": "code",
   "execution_count": null,
   "metadata": {
    "ExecuteTime": {
     "end_time": "2017-02-17T11:56:15.731079",
     "start_time": "2017-02-17T11:56:15.725529"
    },
    "collapsed": true
   },
   "outputs": [],
   "source": [
    "def height(T):\n",
    "    if T == None:\n",
    "        return -1\n",
    "    else:\n",
    "        L = T[1]\n",
    "        R = T[2]\n",
    "        \n",
    "        left_height = height(L)\n",
    "        right_height = height(R)\n",
    "        \n",
    "        if left_height == -1 and right_height == -1:\n",
    "            return 0\n",
    "        else: \n",
    "            return 1 + max(left_height, right_height)"
   ]
  },
  {
   "cell_type": "code",
   "execution_count": null,
   "metadata": {
    "ExecuteTime": {
     "end_time": "2017-02-17T12:40:53.473517",
     "start_time": "2017-02-17T12:40:53.465914"
    },
    "collapsed": true
   },
   "outputs": [],
   "source": [
    "def solution(T):\n",
    "    \n",
    "    return helper(T, -1000000)\n",
    "\n",
    "def helper(T,max_val):\n",
    "    if T == None: \n",
    "        return 0\n",
    "\n",
    "    x = T[0]\n",
    "    L = T[1]\n",
    "    R = T[2]\n",
    "    num_visible = 0\n",
    "    \n",
    "    if x >= max_val: \n",
    "        num_visible = 1\n",
    "        max_val = x\n",
    "        \n",
    "    return num_visible + helper(L, max_val) + helper(R, max_val)\n",
    "            \n",
    "            \n",
    "        "
   ]
  },
  {
   "cell_type": "code",
   "execution_count": null,
   "metadata": {
    "ExecuteTime": {
     "end_time": "2017-02-17T12:54:56.251345",
     "start_time": "2017-02-17T12:54:56.246072"
    },
    "collapsed": false
   },
   "outputs": [],
   "source": [
    "costdict = {1:2,7:7,30:25}\n",
    "A = [1,2,4,5,7,29,30]\n",
    "\n",
    "dist = [A[i+1] - A[i] for i in xrange(len(A)-1)]\n",
    "    \n",
    "cumsum = [sum(dist[:i+1]) for i in range(len(dist))]       \n"
   ]
  },
  {
   "cell_type": "code",
   "execution_count": null,
   "metadata": {
    "ExecuteTime": {
     "end_time": "2017-02-17T13:07:51.763909",
     "start_time": "2017-02-17T13:07:51.760322"
    },
    "collapsed": false
   },
   "outputs": [],
   "source": [
    "cost = 0\n",
    "\n",
    "for idx in xrange(len(dist)):\n",
    "    if dist[idx] > 7:\n",
    "        cost += 2\n",
    "    elif cumsum[idx] < 7 and :\n",
    "        cost+= 7"
   ]
  },
  {
   "cell_type": "code",
   "execution_count": null,
   "metadata": {
    "ExecuteTime": {
     "end_time": "2017-02-17T12:57:15.648087",
     "start_time": "2017-02-17T12:57:15.644953"
    },
    "collapsed": false
   },
   "outputs": [],
   "source": [
    "cumsum"
   ]
  },
  {
   "cell_type": "code",
   "execution_count": null,
   "metadata": {
    "ExecuteTime": {
     "end_time": "2017-02-17T13:09:59.509133",
     "start_time": "2017-02-17T13:09:59.505223"
    },
    "collapsed": false
   },
   "outputs": [],
   "source": [
    "[a/float(len(A)) for a in A]"
   ]
  },
  {
   "cell_type": "code",
   "execution_count": null,
   "metadata": {
    "ExecuteTime": {
     "end_time": "2017-02-17T13:12:55.420502",
     "start_time": "2017-02-17T13:12:55.418354"
    },
    "collapsed": false
   },
   "outputs": [],
   "source": [
    "travel_dates = [0] * 30"
   ]
  },
  {
   "cell_type": "code",
   "execution_count": null,
   "metadata": {
    "ExecuteTime": {
     "end_time": "2017-02-17T13:12:59.196777",
     "start_time": "2017-02-17T13:12:59.193778"
    },
    "collapsed": false
   },
   "outputs": [],
   "source": [
    "for a in A: \n",
    "    travel_dates[a-1] += 1"
   ]
  },
  {
   "cell_type": "code",
   "execution_count": null,
   "metadata": {
    "ExecuteTime": {
     "end_time": "2017-02-17T13:15:57.941878",
     "start_time": "2017-02-17T13:15:57.938668"
    },
    "collapsed": false
   },
   "outputs": [],
   "source": [
    "for t in xrange(len(travel_dates)):\n",
    "    print travel_dates[t]\n",
    "    \n",
    "    print min()"
   ]
  },
  {
   "cell_type": "code",
   "execution_count": 287,
   "metadata": {
    "ExecuteTime": {
     "end_time": "2017-02-17T13:19:21.932120",
     "start_time": "2017-02-17T13:19:21.923475"
    },
    "collapsed": false
   },
   "outputs": [
    {
     "name": "stdout",
     "output_type": "stream",
     "text": [
      "14\n"
     ]
    }
   ],
   "source": [
    "t1 = 8\n",
    "p1 = 8\n",
    "p2 = 25\n",
    "if not A:\n",
    "    print 0\n",
    "dates = [0]*(A[-1]+1)\n",
    "i = 0\n",
    "for j in xrange(len(dates)):\n",
    "    if j == A[i]:\n",
    "        i+=1\n",
    "        if j>=t1 +1:\n",
    "            dates[j] = min(dates[j-t1 -1] + p1, dates[j-1] + 3)\n",
    "        else:\n",
    "            dates[j] = min(dates[0] + p1, dates[j-1] +3)\n",
    "    else:\n",
    "        dates[j] = dates[j-1]\n",
    "print min(p2,dates[-1])"
   ]
  },
  {
   "cell_type": "code",
   "execution_count": 292,
   "metadata": {
    "ExecuteTime": {
     "end_time": "2017-02-17T13:22:42.232319",
     "start_time": "2017-02-17T13:22:42.228184"
    },
    "collapsed": false
   },
   "outputs": [
    {
     "data": {
      "text/plain": [
       "[0,\n",
       " 3,\n",
       " 6,\n",
       " 6,\n",
       " 8,\n",
       " 8,\n",
       " 8,\n",
       " 8,\n",
       " 8,\n",
       " 8,\n",
       " 8,\n",
       " 8,\n",
       " 8,\n",
       " 8,\n",
       " 8,\n",
       " 8,\n",
       " 8,\n",
       " 8,\n",
       " 8,\n",
       " 8,\n",
       " 8,\n",
       " 8,\n",
       " 8,\n",
       " 8,\n",
       " 8,\n",
       " 8,\n",
       " 8,\n",
       " 8,\n",
       " 8,\n",
       " 11,\n",
       " 14]"
      ]
     },
     "execution_count": 292,
     "metadata": {},
     "output_type": "execute_result"
    }
   ],
   "source": [
    "dates"
   ]
  }
 ],
 "metadata": {
  "anaconda-cloud": {},
  "hide_input": false,
  "kernelspec": {
   "display_name": "Python [default]",
   "language": "python",
   "name": "python2"
  },
  "language_info": {
   "codemirror_mode": {
    "name": "ipython",
    "version": 2
   },
   "file_extension": ".py",
   "mimetype": "text/x-python",
   "name": "python",
   "nbconvert_exporter": "python",
   "pygments_lexer": "ipython2",
   "version": "2.7.12"
  },
  "nav_menu": {},
  "toc": {
   "navigate_menu": true,
   "number_sections": true,
   "sideBar": true,
   "threshold": 6,
   "toc_cell": false,
   "toc_section_display": "block",
   "toc_window_display": false
  }
 },
 "nbformat": 4,
 "nbformat_minor": 1
}
